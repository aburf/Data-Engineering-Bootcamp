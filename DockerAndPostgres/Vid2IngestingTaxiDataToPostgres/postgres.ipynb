{
 "cells": [
  {
   "cell_type": "code",
   "execution_count": 12,
   "id": "24f1668b-74c3-4f05-a5df-d7a15070ea22",
   "metadata": {},
   "outputs": [],
   "source": [
    "import pandas as pd\n",
    "import os"
   ]
  },
  {
   "cell_type": "code",
   "execution_count": 13,
   "id": "bd3ba114-6ded-42b7-a1b4-47880eaa88c9",
   "metadata": {},
   "outputs": [
    {
     "data": {
      "text/plain": [
       "'/workspaces/Data-Engineering-Bootcamp/DockerAndPostgres/Vid2IngestingTaxiDataToPostgres'"
      ]
     },
     "execution_count": 13,
     "metadata": {},
     "output_type": "execute_result"
    }
   ],
   "source": [
    "pd.__version__\n",
    "os.getcwd()"
   ]
  },
  {
   "cell_type": "code",
   "execution_count": 10,
   "id": "aaddc9af-7680-4935-a71f-fc6585f23b12",
   "metadata": {},
   "outputs": [
    {
     "ename": "FileNotFoundError",
     "evalue": "[Errno 2] No such file or directory: 'yellow_tripdata_1000.csv'",
     "output_type": "error",
     "traceback": [
      "\u001b[0;31m---------------------------------------------------------------------------\u001b[0m",
      "\u001b[0;31mFileNotFoundError\u001b[0m                         Traceback (most recent call last)",
      "Cell \u001b[0;32mIn[10], line 3\u001b[0m\n\u001b[1;32m      1\u001b[0m data_url \u001b[38;5;241m=\u001b[39m \u001b[38;5;124m'\u001b[39m\u001b[38;5;124mhttps://github.com/DataTalksClub/nyc-tlc-data/releases/download/yellow/yellow_tripdata_1000.csv.gz\u001b[39m\u001b[38;5;124m'\u001b[39m\n\u001b[1;32m      2\u001b[0m csv_name \u001b[38;5;241m=\u001b[39m data_url\u001b[38;5;241m.\u001b[39msplit(\u001b[38;5;124m'\u001b[39m\u001b[38;5;124m/\u001b[39m\u001b[38;5;124m'\u001b[39m)[\u001b[38;5;241m-\u001b[39m\u001b[38;5;241m1\u001b[39m]\n\u001b[0;32m----> 3\u001b[0m df \u001b[38;5;241m=\u001b[39m \u001b[43mpd\u001b[49m\u001b[38;5;241;43m.\u001b[39;49m\u001b[43mread_csv\u001b[49m\u001b[43m(\u001b[49m\u001b[38;5;124;43m'\u001b[39;49m\u001b[38;5;124;43myellow_tripdata_1000.csv\u001b[39;49m\u001b[38;5;124;43m'\u001b[39;49m\u001b[43m,\u001b[49m\u001b[43m \u001b[49m\u001b[43mnrows\u001b[49m\u001b[38;5;241;43m=\u001b[39;49m\u001b[38;5;241;43m100\u001b[39;49m\u001b[43m)\u001b[49m\n\u001b[1;32m      4\u001b[0m \u001b[38;5;66;03m##pd.to_datetime(df\u001b[39;00m\n",
      "File \u001b[0;32m~/.local/lib/python3.12/site-packages/pandas/io/parsers/readers.py:1026\u001b[0m, in \u001b[0;36mread_csv\u001b[0;34m(filepath_or_buffer, sep, delimiter, header, names, index_col, usecols, dtype, engine, converters, true_values, false_values, skipinitialspace, skiprows, skipfooter, nrows, na_values, keep_default_na, na_filter, verbose, skip_blank_lines, parse_dates, infer_datetime_format, keep_date_col, date_parser, date_format, dayfirst, cache_dates, iterator, chunksize, compression, thousands, decimal, lineterminator, quotechar, quoting, doublequote, escapechar, comment, encoding, encoding_errors, dialect, on_bad_lines, delim_whitespace, low_memory, memory_map, float_precision, storage_options, dtype_backend)\u001b[0m\n\u001b[1;32m   1013\u001b[0m kwds_defaults \u001b[38;5;241m=\u001b[39m _refine_defaults_read(\n\u001b[1;32m   1014\u001b[0m     dialect,\n\u001b[1;32m   1015\u001b[0m     delimiter,\n\u001b[0;32m   (...)\u001b[0m\n\u001b[1;32m   1022\u001b[0m     dtype_backend\u001b[38;5;241m=\u001b[39mdtype_backend,\n\u001b[1;32m   1023\u001b[0m )\n\u001b[1;32m   1024\u001b[0m kwds\u001b[38;5;241m.\u001b[39mupdate(kwds_defaults)\n\u001b[0;32m-> 1026\u001b[0m \u001b[38;5;28;01mreturn\u001b[39;00m \u001b[43m_read\u001b[49m\u001b[43m(\u001b[49m\u001b[43mfilepath_or_buffer\u001b[49m\u001b[43m,\u001b[49m\u001b[43m \u001b[49m\u001b[43mkwds\u001b[49m\u001b[43m)\u001b[49m\n",
      "File \u001b[0;32m~/.local/lib/python3.12/site-packages/pandas/io/parsers/readers.py:620\u001b[0m, in \u001b[0;36m_read\u001b[0;34m(filepath_or_buffer, kwds)\u001b[0m\n\u001b[1;32m    617\u001b[0m _validate_names(kwds\u001b[38;5;241m.\u001b[39mget(\u001b[38;5;124m\"\u001b[39m\u001b[38;5;124mnames\u001b[39m\u001b[38;5;124m\"\u001b[39m, \u001b[38;5;28;01mNone\u001b[39;00m))\n\u001b[1;32m    619\u001b[0m \u001b[38;5;66;03m# Create the parser.\u001b[39;00m\n\u001b[0;32m--> 620\u001b[0m parser \u001b[38;5;241m=\u001b[39m \u001b[43mTextFileReader\u001b[49m\u001b[43m(\u001b[49m\u001b[43mfilepath_or_buffer\u001b[49m\u001b[43m,\u001b[49m\u001b[43m \u001b[49m\u001b[38;5;241;43m*\u001b[39;49m\u001b[38;5;241;43m*\u001b[39;49m\u001b[43mkwds\u001b[49m\u001b[43m)\u001b[49m\n\u001b[1;32m    622\u001b[0m \u001b[38;5;28;01mif\u001b[39;00m chunksize \u001b[38;5;129;01mor\u001b[39;00m iterator:\n\u001b[1;32m    623\u001b[0m     \u001b[38;5;28;01mreturn\u001b[39;00m parser\n",
      "File \u001b[0;32m~/.local/lib/python3.12/site-packages/pandas/io/parsers/readers.py:1620\u001b[0m, in \u001b[0;36mTextFileReader.__init__\u001b[0;34m(self, f, engine, **kwds)\u001b[0m\n\u001b[1;32m   1617\u001b[0m     \u001b[38;5;28mself\u001b[39m\u001b[38;5;241m.\u001b[39moptions[\u001b[38;5;124m\"\u001b[39m\u001b[38;5;124mhas_index_names\u001b[39m\u001b[38;5;124m\"\u001b[39m] \u001b[38;5;241m=\u001b[39m kwds[\u001b[38;5;124m\"\u001b[39m\u001b[38;5;124mhas_index_names\u001b[39m\u001b[38;5;124m\"\u001b[39m]\n\u001b[1;32m   1619\u001b[0m \u001b[38;5;28mself\u001b[39m\u001b[38;5;241m.\u001b[39mhandles: IOHandles \u001b[38;5;241m|\u001b[39m \u001b[38;5;28;01mNone\u001b[39;00m \u001b[38;5;241m=\u001b[39m \u001b[38;5;28;01mNone\u001b[39;00m\n\u001b[0;32m-> 1620\u001b[0m \u001b[38;5;28mself\u001b[39m\u001b[38;5;241m.\u001b[39m_engine \u001b[38;5;241m=\u001b[39m \u001b[38;5;28;43mself\u001b[39;49m\u001b[38;5;241;43m.\u001b[39;49m\u001b[43m_make_engine\u001b[49m\u001b[43m(\u001b[49m\u001b[43mf\u001b[49m\u001b[43m,\u001b[49m\u001b[43m \u001b[49m\u001b[38;5;28;43mself\u001b[39;49m\u001b[38;5;241;43m.\u001b[39;49m\u001b[43mengine\u001b[49m\u001b[43m)\u001b[49m\n",
      "File \u001b[0;32m~/.local/lib/python3.12/site-packages/pandas/io/parsers/readers.py:1880\u001b[0m, in \u001b[0;36mTextFileReader._make_engine\u001b[0;34m(self, f, engine)\u001b[0m\n\u001b[1;32m   1878\u001b[0m     \u001b[38;5;28;01mif\u001b[39;00m \u001b[38;5;124m\"\u001b[39m\u001b[38;5;124mb\u001b[39m\u001b[38;5;124m\"\u001b[39m \u001b[38;5;129;01mnot\u001b[39;00m \u001b[38;5;129;01min\u001b[39;00m mode:\n\u001b[1;32m   1879\u001b[0m         mode \u001b[38;5;241m+\u001b[39m\u001b[38;5;241m=\u001b[39m \u001b[38;5;124m\"\u001b[39m\u001b[38;5;124mb\u001b[39m\u001b[38;5;124m\"\u001b[39m\n\u001b[0;32m-> 1880\u001b[0m \u001b[38;5;28mself\u001b[39m\u001b[38;5;241m.\u001b[39mhandles \u001b[38;5;241m=\u001b[39m \u001b[43mget_handle\u001b[49m\u001b[43m(\u001b[49m\n\u001b[1;32m   1881\u001b[0m \u001b[43m    \u001b[49m\u001b[43mf\u001b[49m\u001b[43m,\u001b[49m\n\u001b[1;32m   1882\u001b[0m \u001b[43m    \u001b[49m\u001b[43mmode\u001b[49m\u001b[43m,\u001b[49m\n\u001b[1;32m   1883\u001b[0m \u001b[43m    \u001b[49m\u001b[43mencoding\u001b[49m\u001b[38;5;241;43m=\u001b[39;49m\u001b[38;5;28;43mself\u001b[39;49m\u001b[38;5;241;43m.\u001b[39;49m\u001b[43moptions\u001b[49m\u001b[38;5;241;43m.\u001b[39;49m\u001b[43mget\u001b[49m\u001b[43m(\u001b[49m\u001b[38;5;124;43m\"\u001b[39;49m\u001b[38;5;124;43mencoding\u001b[39;49m\u001b[38;5;124;43m\"\u001b[39;49m\u001b[43m,\u001b[49m\u001b[43m \u001b[49m\u001b[38;5;28;43;01mNone\u001b[39;49;00m\u001b[43m)\u001b[49m\u001b[43m,\u001b[49m\n\u001b[1;32m   1884\u001b[0m \u001b[43m    \u001b[49m\u001b[43mcompression\u001b[49m\u001b[38;5;241;43m=\u001b[39;49m\u001b[38;5;28;43mself\u001b[39;49m\u001b[38;5;241;43m.\u001b[39;49m\u001b[43moptions\u001b[49m\u001b[38;5;241;43m.\u001b[39;49m\u001b[43mget\u001b[49m\u001b[43m(\u001b[49m\u001b[38;5;124;43m\"\u001b[39;49m\u001b[38;5;124;43mcompression\u001b[39;49m\u001b[38;5;124;43m\"\u001b[39;49m\u001b[43m,\u001b[49m\u001b[43m \u001b[49m\u001b[38;5;28;43;01mNone\u001b[39;49;00m\u001b[43m)\u001b[49m\u001b[43m,\u001b[49m\n\u001b[1;32m   1885\u001b[0m \u001b[43m    \u001b[49m\u001b[43mmemory_map\u001b[49m\u001b[38;5;241;43m=\u001b[39;49m\u001b[38;5;28;43mself\u001b[39;49m\u001b[38;5;241;43m.\u001b[39;49m\u001b[43moptions\u001b[49m\u001b[38;5;241;43m.\u001b[39;49m\u001b[43mget\u001b[49m\u001b[43m(\u001b[49m\u001b[38;5;124;43m\"\u001b[39;49m\u001b[38;5;124;43mmemory_map\u001b[39;49m\u001b[38;5;124;43m\"\u001b[39;49m\u001b[43m,\u001b[49m\u001b[43m \u001b[49m\u001b[38;5;28;43;01mFalse\u001b[39;49;00m\u001b[43m)\u001b[49m\u001b[43m,\u001b[49m\n\u001b[1;32m   1886\u001b[0m \u001b[43m    \u001b[49m\u001b[43mis_text\u001b[49m\u001b[38;5;241;43m=\u001b[39;49m\u001b[43mis_text\u001b[49m\u001b[43m,\u001b[49m\n\u001b[1;32m   1887\u001b[0m \u001b[43m    \u001b[49m\u001b[43merrors\u001b[49m\u001b[38;5;241;43m=\u001b[39;49m\u001b[38;5;28;43mself\u001b[39;49m\u001b[38;5;241;43m.\u001b[39;49m\u001b[43moptions\u001b[49m\u001b[38;5;241;43m.\u001b[39;49m\u001b[43mget\u001b[49m\u001b[43m(\u001b[49m\u001b[38;5;124;43m\"\u001b[39;49m\u001b[38;5;124;43mencoding_errors\u001b[39;49m\u001b[38;5;124;43m\"\u001b[39;49m\u001b[43m,\u001b[49m\u001b[43m \u001b[49m\u001b[38;5;124;43m\"\u001b[39;49m\u001b[38;5;124;43mstrict\u001b[39;49m\u001b[38;5;124;43m\"\u001b[39;49m\u001b[43m)\u001b[49m\u001b[43m,\u001b[49m\n\u001b[1;32m   1888\u001b[0m \u001b[43m    \u001b[49m\u001b[43mstorage_options\u001b[49m\u001b[38;5;241;43m=\u001b[39;49m\u001b[38;5;28;43mself\u001b[39;49m\u001b[38;5;241;43m.\u001b[39;49m\u001b[43moptions\u001b[49m\u001b[38;5;241;43m.\u001b[39;49m\u001b[43mget\u001b[49m\u001b[43m(\u001b[49m\u001b[38;5;124;43m\"\u001b[39;49m\u001b[38;5;124;43mstorage_options\u001b[39;49m\u001b[38;5;124;43m\"\u001b[39;49m\u001b[43m,\u001b[49m\u001b[43m \u001b[49m\u001b[38;5;28;43;01mNone\u001b[39;49;00m\u001b[43m)\u001b[49m\u001b[43m,\u001b[49m\n\u001b[1;32m   1889\u001b[0m \u001b[43m\u001b[49m\u001b[43m)\u001b[49m\n\u001b[1;32m   1890\u001b[0m \u001b[38;5;28;01massert\u001b[39;00m \u001b[38;5;28mself\u001b[39m\u001b[38;5;241m.\u001b[39mhandles \u001b[38;5;129;01mis\u001b[39;00m \u001b[38;5;129;01mnot\u001b[39;00m \u001b[38;5;28;01mNone\u001b[39;00m\n\u001b[1;32m   1891\u001b[0m f \u001b[38;5;241m=\u001b[39m \u001b[38;5;28mself\u001b[39m\u001b[38;5;241m.\u001b[39mhandles\u001b[38;5;241m.\u001b[39mhandle\n",
      "File \u001b[0;32m~/.local/lib/python3.12/site-packages/pandas/io/common.py:873\u001b[0m, in \u001b[0;36mget_handle\u001b[0;34m(path_or_buf, mode, encoding, compression, memory_map, is_text, errors, storage_options)\u001b[0m\n\u001b[1;32m    868\u001b[0m \u001b[38;5;28;01melif\u001b[39;00m \u001b[38;5;28misinstance\u001b[39m(handle, \u001b[38;5;28mstr\u001b[39m):\n\u001b[1;32m    869\u001b[0m     \u001b[38;5;66;03m# Check whether the filename is to be opened in binary mode.\u001b[39;00m\n\u001b[1;32m    870\u001b[0m     \u001b[38;5;66;03m# Binary mode does not support 'encoding' and 'newline'.\u001b[39;00m\n\u001b[1;32m    871\u001b[0m     \u001b[38;5;28;01mif\u001b[39;00m ioargs\u001b[38;5;241m.\u001b[39mencoding \u001b[38;5;129;01mand\u001b[39;00m \u001b[38;5;124m\"\u001b[39m\u001b[38;5;124mb\u001b[39m\u001b[38;5;124m\"\u001b[39m \u001b[38;5;129;01mnot\u001b[39;00m \u001b[38;5;129;01min\u001b[39;00m ioargs\u001b[38;5;241m.\u001b[39mmode:\n\u001b[1;32m    872\u001b[0m         \u001b[38;5;66;03m# Encoding\u001b[39;00m\n\u001b[0;32m--> 873\u001b[0m         handle \u001b[38;5;241m=\u001b[39m \u001b[38;5;28;43mopen\u001b[39;49m\u001b[43m(\u001b[49m\n\u001b[1;32m    874\u001b[0m \u001b[43m            \u001b[49m\u001b[43mhandle\u001b[49m\u001b[43m,\u001b[49m\n\u001b[1;32m    875\u001b[0m \u001b[43m            \u001b[49m\u001b[43mioargs\u001b[49m\u001b[38;5;241;43m.\u001b[39;49m\u001b[43mmode\u001b[49m\u001b[43m,\u001b[49m\n\u001b[1;32m    876\u001b[0m \u001b[43m            \u001b[49m\u001b[43mencoding\u001b[49m\u001b[38;5;241;43m=\u001b[39;49m\u001b[43mioargs\u001b[49m\u001b[38;5;241;43m.\u001b[39;49m\u001b[43mencoding\u001b[49m\u001b[43m,\u001b[49m\n\u001b[1;32m    877\u001b[0m \u001b[43m            \u001b[49m\u001b[43merrors\u001b[49m\u001b[38;5;241;43m=\u001b[39;49m\u001b[43merrors\u001b[49m\u001b[43m,\u001b[49m\n\u001b[1;32m    878\u001b[0m \u001b[43m            \u001b[49m\u001b[43mnewline\u001b[49m\u001b[38;5;241;43m=\u001b[39;49m\u001b[38;5;124;43m\"\u001b[39;49m\u001b[38;5;124;43m\"\u001b[39;49m\u001b[43m,\u001b[49m\n\u001b[1;32m    879\u001b[0m \u001b[43m        \u001b[49m\u001b[43m)\u001b[49m\n\u001b[1;32m    880\u001b[0m     \u001b[38;5;28;01melse\u001b[39;00m:\n\u001b[1;32m    881\u001b[0m         \u001b[38;5;66;03m# Binary mode\u001b[39;00m\n\u001b[1;32m    882\u001b[0m         handle \u001b[38;5;241m=\u001b[39m \u001b[38;5;28mopen\u001b[39m(handle, ioargs\u001b[38;5;241m.\u001b[39mmode)\n",
      "\u001b[0;31mFileNotFoundError\u001b[0m: [Errno 2] No such file or directory: 'yellow_tripdata_1000.csv'"
     ]
    }
   ],
   "source": [
    "data_url = '/workspaces/Data-Engineering-Bootcamp/yellow_tripdata_1000.csv.gz'\n",
    "csv_name = data_url.split('/')[-1]\n",
    "df = pd.read_csv(data, nrows=100)\n",
    "##pd.to_datetime(df"
   ]
  },
  {
   "cell_type": "code",
   "execution_count": 8,
   "id": "1a90a629-2b66-4731-8354-529c97cbffae",
   "metadata": {},
   "outputs": [
    {
     "data": {
      "text/html": [
       "<div>\n",
       "<style scoped>\n",
       "    .dataframe tbody tr th:only-of-type {\n",
       "        vertical-align: middle;\n",
       "    }\n",
       "\n",
       "    .dataframe tbody tr th {\n",
       "        vertical-align: top;\n",
       "    }\n",
       "\n",
       "    .dataframe thead th {\n",
       "        text-align: right;\n",
       "    }\n",
       "</style>\n",
       "<table border=\"1\" class=\"dataframe\">\n",
       "  <thead>\n",
       "    <tr style=\"text-align: right;\">\n",
       "      <th></th>\n",
       "      <th>&lt;!doctype html&gt;&lt;html lang=\"en\"&gt;&lt;head&gt;&lt;meta charset=\"UTF-8\"/&gt;&lt;meta name=\"authUrl\" content=\"https://github.com/codespaces/auth/solid-space-spork-rxrwwpwxrrg2xx95\"/&gt;&lt;meta name=\"correlationId\" content=\"d37ac2d5-182b-461e-9fea-d8449c61d654\"/&gt;&lt;meta name=\"iKey\" content=\"f772ffaa012e4fc6bb0a245dd176fc6c-ca6358be-0b85-4e74-ade1-c7857dd7d8c9-7394\"/&gt;&lt;link id=\"js-favicon\" rel=\"shortcut icon\" href=\"https://github.githubassets.com/favicon.ico\"/&gt;&lt;script defer=\"defer\" src=\"/static/commons-app~bootstrap~pfHelper-index.js.bac233d836df626c8541.js\"&gt;&lt;/script&gt;&lt;script defer=\"defer\" src=\"/static/commons-app~bootstrap~pfHelper-bn.js.4d4aa34f610675792323.js\"&gt;&lt;/script&gt;&lt;script defer=\"defer\" src=\"/static/commons-app~bootstrap~pfHelper-moment.js.2219cb8ee93115e45e6a.js\"&gt;&lt;/script&gt;&lt;script defer=\"defer\" src=\"/static/commons-app~bootstrap~pfHelper-axios.cjs.f1e8e9a2227c8fff59da.js\"&gt;&lt;/script&gt;&lt;script defer=\"defer\" src=\"/static/commons-app~bootstrap~pfHelper-_stream_readable.js.91b6c073cb2a86a37363.js\"&gt;&lt;/script&gt;&lt;script defer=\"defer\" src=\"/static/commons-app~bootstrap~pfHelper-tunnelProvider.js.e8fc87c1c3f0b477c918.js\"&gt;&lt;/script&gt;&lt;script defer=\"defer\" src=\"/static/commons-app~bootstrap~pfHelper-sshSession.js.e1b750f91dd2c06aba0a.js\"&gt;&lt;/script&gt;&lt;script defer=\"defer\" src=\"/static/commons-app~bootstrap~pfHelper-ast.js.f5e2848d076de3fb2294.js\"&gt;&lt;/script&gt;&lt;script defer=\"defer\" src=\"/static/commons-app~bootstrap~pfHelper-_stream_writable.js.3ce20f395afb0d18f7e7.js\"&gt;&lt;/script&gt;&lt;script defer=\"defer\" src=\"/static/commons-app~bootstrap~pfHelper-jsbn.js.8d91f9515e6930d35e52.js\"&gt;&lt;/script&gt;&lt;script defer=\"defer\" src=\"/static/commons-app~bootstrap~pfHelper-tunnelManagementHttpClient.js.b1ad2c0688fecfd25d68.js\"&gt;&lt;/script&gt;&lt;script defer=\"defer\" src=\"/static/commons-app~bootstrap~pfHelper-source-map-consumer.js.05d136b5703bf4069020.js\"&gt;&lt;/script&gt;&lt;script defer=\"defer\" src=\"/static/commons-app~bootstrap~pfHelper-main.js.64b244dfee6ed41898be.js\"&gt;&lt;/script&gt;&lt;script defer=\"defer\" src=\"/static/commons-app~bootstrap~pfHelper-portForwardingService.js.621ce7113aa1338ca1a8.js\"&gt;&lt;/script&gt;&lt;script defer=\"defer\" src=\"/static/commons-app~bootstrap~pfHelper-util.js.a562b43bfc95bff9f7be.js\"&gt;&lt;/script&gt;&lt;script defer=\"defer\" src=\"/static/commons-app~bootstrap~pfHelper-secp256k1.js.142d77f1b0fea28ea51d.js\"&gt;&lt;/script&gt;&lt;script defer=\"defer\" src=\"/static/commons-app~bootstrap~pfHelper-keyExchangeService.js.39a14d15763e5fafaad6.js\"&gt;&lt;/script&gt;&lt;script defer=\"defer\" src=\"/static/commons-app~bootstrap~pfHelper-browser.js.d3202fcf58145dadaa72.js\"&gt;&lt;/script&gt;&lt;script defer=\"defer\" src=\"/static/commons-app~bootstrap~pfHelper-tunnelRelayTunnelHost.js.c023abc6c87efe0278db.js\"&gt;&lt;/script&gt;&lt;script defer=\"defer\" src=\"/static/commons-app~bootstrap~pfHelper-sshProtocol.js.590a44792277ba807023.js\"&gt;&lt;/script&gt;&lt;script defer=\"defer\" src=\"/static/commons-app~bootstrap~pfHelper-authenticationService.js.a60abedc5cf39bf94c2e.js\"&gt;&lt;/script&gt;&lt;script defer=\"defer\" src=\"/static/commons-app~bootstrap~pfHelper-grpc-web-client.umd.js.b4cb663c2e3cea9de78b.js\"&gt;&lt;/script&gt;&lt;script defer=\"defer\" src=\"/static/commons-app~bootstrap~pfHelper-assert.js.5a588be3966246e4837f.js\"&gt;&lt;/script&gt;&lt;script defer=\"defer\" src=\"/static/commons-app~bootstrap~pfHelper-assertion_error.js.23f1920dc4985c4af483.js\"&gt;&lt;/script&gt;&lt;script defer=\"defer\" src=\"/static/commons-app~bootstrap~pfHelper-sshChannel.js.aaf46a7081df1b07daf9.js\"&gt;&lt;/script&gt;&lt;script defer=\"defer\" src=\"/static/commons-app~bootstrap~pfHelper-utils.js.3e13b9e5230981fece45.js\"&gt;&lt;/script&gt;&lt;script defer=\"defer\" src=\"/static/commons-app~bootstrap~pfHelper-short.js.e456a05250fe8c358f0a.js\"&gt;&lt;/script&gt;&lt;script defer=\"defer\" src=\"/static/commons-app~bootstrap~pfHelper-tunnelConnectionSession.js.2a751c9f44ae06f0cb39.js\"&gt;&lt;/script&gt;&lt;script defer=\"defer\" src=\"/static/commons-app~bootstrap~pfHelper-tunnelRelayTunnelClient.js.7b3f5a0a566da617141f.js\"&gt;&lt;/script&gt;&lt;script defer=\"defer\" src=\"/static/commons-app~pfHelper-HttpManager.js.aa4d4b95b4553cfa770b.js\"&gt;&lt;/script&gt;&lt;script defer=\"defer\" src=\"/static/commons-app~pfHelper-PostChannel.js.526e10ac2882a8b8367d.js\"&gt;&lt;/script&gt;&lt;script defer=\"defer\" src=\"/static/644.357904918e6f9d8132a5.js\"&gt;&lt;/script&gt;&lt;script defer=\"defer\" src=\"/static/974.59cac6dc469420b82e0e.js\"&gt;&lt;/script&gt;&lt;script defer=\"defer\" src=\"/static/467.42dd2940b872a0a9346b.js\"&gt;&lt;/script&gt;&lt;script defer=\"defer\" src=\"/static/pfHelper.201114e94a9ed12b5ad1.js\"&gt;&lt;/script&gt;&lt;/head&gt;&lt;body style=\"text-align:center\"&gt;&lt;div class=\"github-icon\" style=\"margin-top:6rem\"&gt;&lt;svg id=\"circle\" viewBox=\"0 0 16 16\" fill=\"none\" style=\"box-sizing:content-box;color:var(--color-icon-primary)\" width=\"64\" height=\"64\"&gt;&lt;circle cx=\"8\" cy=\"8\" r=\"7\" stroke=\"currentColor\" stroke-opacity=\"0.25\" stroke-width=\"2\" vector-effect=\"non-scaling-stroke\"/&gt;&lt;path d=\"M15 8a7.002 7.002 0 00-7-7\" stroke=\"currentColor\" stroke-width=\"2\" stroke-linecap=\"round\" vector-effect=\"non-scaling-stroke\"&gt;&lt;/path&gt;&lt;/svg&gt;&lt;/div&gt;&lt;div class=\"body\" style=\"font-size:1rem;font-weight:700;text-align:center;font-family:-apple-system</th>\n",
       "      <th>BlinkMacSystemFont</th>\n",
       "      <th>sans-serif;margin-top:2rem\"&gt;&lt;p id=\"text\" class=\"vsonline-port-forwarding__status\"&gt;Connecting to the forwarded port...&lt;/p&gt;&lt;form method=\"POST\" id=\"tokenForm\"&gt;&lt;input type=\"hidden\" id=\"featureFlags\" name=\"featureFlags\"/&gt; &lt;input type=\"hidden\" id=\"accessToken\" name=\"accessToken\"/&gt; &lt;input type=\"checkbox\" id=\"skipAntiPhishing\" name=\"skipAntiPhishing\" style=\"display:none\"/&gt;&lt;/form&gt;&lt;/div&gt;&lt;/body&gt;&lt;/html&gt;</th>\n",
       "    </tr>\n",
       "  </thead>\n",
       "  <tbody>\n",
       "  </tbody>\n",
       "</table>\n",
       "</div>"
      ],
      "text/plain": [
       "Empty DataFrame\n",
       "Columns: [<!doctype html><html lang=\"en\"><head><meta charset=\"UTF-8\"/><meta name=\"authUrl\" content=\"https://github.com/codespaces/auth/solid-space-spork-rxrwwpwxrrg2xx95\"/><meta name=\"correlationId\" content=\"d37ac2d5-182b-461e-9fea-d8449c61d654\"/><meta name=\"iKey\" content=\"f772ffaa012e4fc6bb0a245dd176fc6c-ca6358be-0b85-4e74-ade1-c7857dd7d8c9-7394\"/><link id=\"js-favicon\" rel=\"shortcut icon\" href=\"https://github.githubassets.com/favicon.ico\"/><script defer=\"defer\" src=\"/static/commons-app~bootstrap~pfHelper-index.js.bac233d836df626c8541.js\"></script><script defer=\"defer\" src=\"/static/commons-app~bootstrap~pfHelper-bn.js.4d4aa34f610675792323.js\"></script><script defer=\"defer\" src=\"/static/commons-app~bootstrap~pfHelper-moment.js.2219cb8ee93115e45e6a.js\"></script><script defer=\"defer\" src=\"/static/commons-app~bootstrap~pfHelper-axios.cjs.f1e8e9a2227c8fff59da.js\"></script><script defer=\"defer\" src=\"/static/commons-app~bootstrap~pfHelper-_stream_readable.js.91b6c073cb2a86a37363.js\"></script><script defer=\"defer\" src=\"/static/commons-app~bootstrap~pfHelper-tunnelProvider.js.e8fc87c1c3f0b477c918.js\"></script><script defer=\"defer\" src=\"/static/commons-app~bootstrap~pfHelper-sshSession.js.e1b750f91dd2c06aba0a.js\"></script><script defer=\"defer\" src=\"/static/commons-app~bootstrap~pfHelper-ast.js.f5e2848d076de3fb2294.js\"></script><script defer=\"defer\" src=\"/static/commons-app~bootstrap~pfHelper-_stream_writable.js.3ce20f395afb0d18f7e7.js\"></script><script defer=\"defer\" src=\"/static/commons-app~bootstrap~pfHelper-jsbn.js.8d91f9515e6930d35e52.js\"></script><script defer=\"defer\" src=\"/static/commons-app~bootstrap~pfHelper-tunnelManagementHttpClient.js.b1ad2c0688fecfd25d68.js\"></script><script defer=\"defer\" src=\"/static/commons-app~bootstrap~pfHelper-source-map-consumer.js.05d136b5703bf4069020.js\"></script><script defer=\"defer\" src=\"/static/commons-app~bootstrap~pfHelper-main.js.64b244dfee6ed41898be.js\"></script><script defer=\"defer\" src=\"/static/commons-app~bootstrap~pfHelper-portForwardingService.js.621ce7113aa1338ca1a8.js\"></script><script defer=\"defer\" src=\"/static/commons-app~bootstrap~pfHelper-util.js.a562b43bfc95bff9f7be.js\"></script><script defer=\"defer\" src=\"/static/commons-app~bootstrap~pfHelper-secp256k1.js.142d77f1b0fea28ea51d.js\"></script><script defer=\"defer\" src=\"/static/commons-app~bootstrap~pfHelper-keyExchangeService.js.39a14d15763e5fafaad6.js\"></script><script defer=\"defer\" src=\"/static/commons-app~bootstrap~pfHelper-browser.js.d3202fcf58145dadaa72.js\"></script><script defer=\"defer\" src=\"/static/commons-app~bootstrap~pfHelper-tunnelRelayTunnelHost.js.c023abc6c87efe0278db.js\"></script><script defer=\"defer\" src=\"/static/commons-app~bootstrap~pfHelper-sshProtocol.js.590a44792277ba807023.js\"></script><script defer=\"defer\" src=\"/static/commons-app~bootstrap~pfHelper-authenticationService.js.a60abedc5cf39bf94c2e.js\"></script><script defer=\"defer\" src=\"/static/commons-app~bootstrap~pfHelper-grpc-web-client.umd.js.b4cb663c2e3cea9de78b.js\"></script><script defer=\"defer\" src=\"/static/commons-app~bootstrap~pfHelper-assert.js.5a588be3966246e4837f.js\"></script><script defer=\"defer\" src=\"/static/commons-app~bootstrap~pfHelper-assertion_error.js.23f1920dc4985c4af483.js\"></script><script defer=\"defer\" src=\"/static/commons-app~bootstrap~pfHelper-sshChannel.js.aaf46a7081df1b07daf9.js\"></script><script defer=\"defer\" src=\"/static/commons-app~bootstrap~pfHelper-utils.js.3e13b9e5230981fece45.js\"></script><script defer=\"defer\" src=\"/static/commons-app~bootstrap~pfHelper-short.js.e456a05250fe8c358f0a.js\"></script><script defer=\"defer\" src=\"/static/commons-app~bootstrap~pfHelper-tunnelConnectionSession.js.2a751c9f44ae06f0cb39.js\"></script><script defer=\"defer\" src=\"/static/commons-app~bootstrap~pfHelper-tunnelRelayTunnelClient.js.7b3f5a0a566da617141f.js\"></script><script defer=\"defer\" src=\"/static/commons-app~pfHelper-HttpManager.js.aa4d4b95b4553cfa770b.js\"></script><script defer=\"defer\" src=\"/static/commons-app~pfHelper-PostChannel.js.526e10ac2882a8b8367d.js\"></script><script defer=\"defer\" src=\"/static/644.357904918e6f9d8132a5.js\"></script><script defer=\"defer\" src=\"/static/974.59cac6dc469420b82e0e.js\"></script><script defer=\"defer\" src=\"/static/467.42dd2940b872a0a9346b.js\"></script><script defer=\"defer\" src=\"/static/pfHelper.201114e94a9ed12b5ad1.js\"></script></head><body style=\"text-align:center\"><div class=\"github-icon\" style=\"margin-top:6rem\"><svg id=\"circle\" viewBox=\"0 0 16 16\" fill=\"none\" style=\"box-sizing:content-box;color:var(--color-icon-primary)\" width=\"64\" height=\"64\"><circle cx=\"8\" cy=\"8\" r=\"7\" stroke=\"currentColor\" stroke-opacity=\"0.25\" stroke-width=\"2\" vector-effect=\"non-scaling-stroke\"/><path d=\"M15 8a7.002 7.002 0 00-7-7\" stroke=\"currentColor\" stroke-width=\"2\" stroke-linecap=\"round\" vector-effect=\"non-scaling-stroke\"></path></svg></div><div class=\"body\" style=\"font-size:1rem;font-weight:700;text-align:center;font-family:-apple-system, BlinkMacSystemFont, sans-serif;margin-top:2rem\"><p id=\"text\" class=\"vsonline-port-forwarding__status\">Connecting to the forwarded port...</p><form method=\"POST\" id=\"tokenForm\"><input type=\"hidden\" id=\"featureFlags\" name=\"featureFlags\"/> <input type=\"hidden\" id=\"accessToken\" name=\"accessToken\"/> <input type=\"checkbox\" id=\"skipAntiPhishing\" name=\"skipAntiPhishing\" style=\"display:none\"/></form></div></body></html>]\n",
       "Index: []"
      ]
     },
     "execution_count": 8,
     "metadata": {},
     "output_type": "execute_result"
    }
   ],
   "source": [
    "df.head()\n",
    "\n"
   ]
  },
  {
   "cell_type": "code",
   "execution_count": 8,
   "id": "0c078a51-6a99-4ec8-a9fb-aa1756f4db0c",
   "metadata": {},
   "outputs": [
    {
     "name": "stdout",
     "output_type": "stream",
     "text": [
      "CREATE TABLE \"yellow_taxi_data\" (\n",
      "\"VendorID\" INTEGER,\n",
      "  \"tpep_pickup_datetime\" TEXT,\n",
      "  \"tpep_dropoff_datetime\" TEXT,\n",
      "  \"passenger_count\" INTEGER,\n",
      "  \"trip_distance\" REAL,\n",
      "  \"RatecodeID\" INTEGER,\n",
      "  \"store_and_fwd_flag\" TEXT,\n",
      "  \"PULocationID\" INTEGER,\n",
      "  \"DOLocationID\" INTEGER,\n",
      "  \"payment_type\" INTEGER,\n",
      "  \"fare_amount\" REAL,\n",
      "  \"extra\" REAL,\n",
      "  \"mta_tax\" REAL,\n",
      "  \"tip_amount\" REAL,\n",
      "  \"tolls_amount\" REAL,\n",
      "  \"improvement_surcharge\" REAL,\n",
      "  \"total_amount\" REAL,\n",
      "  \"congestion_surcharge\" REAL\n",
      ")\n"
     ]
    }
   ],
   "source": [
    "print(pd.io.sql.get_schema(df, name='yellow_taxi_data'))"
   ]
  },
  {
   "cell_type": "code",
   "execution_count": null,
   "id": "cb66904c-c0c7-4371-b85c-4d9e6973ba5f",
   "metadata": {},
   "outputs": [],
   "source": []
  }
 ],
 "metadata": {
  "kernelspec": {
   "display_name": "Python 3 (ipykernel)",
   "language": "python",
   "name": "python3"
  },
  "language_info": {
   "codemirror_mode": {
    "name": "ipython",
    "version": 3
   },
   "file_extension": ".py",
   "mimetype": "text/x-python",
   "name": "python",
   "nbconvert_exporter": "python",
   "pygments_lexer": "ipython3",
   "version": "3.12.1"
  }
 },
 "nbformat": 4,
 "nbformat_minor": 5
}
